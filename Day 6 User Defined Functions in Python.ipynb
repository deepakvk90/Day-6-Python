{
 "cells": [
  {
   "cell_type": "markdown",
   "id": "8ab756e6",
   "metadata": {},
   "source": [
    "# Day 6\n",
    "User Define Function"
   ]
  },
  {
   "cell_type": "markdown",
   "id": "482c7774",
   "metadata": {},
   "source": [
    "# Creating a user defined function"
   ]
  },
  {
   "cell_type": "code",
   "execution_count": null,
   "id": "9a67c3fc",
   "metadata": {},
   "outputs": [],
   "source": [
    "def my_function():\n",
    "    print(\"hello class\")\n",
    "    print(\"we are learning python\")"
   ]
  },
  {
   "cell_type": "code",
   "execution_count": null,
   "id": "e58bdef2",
   "metadata": {},
   "outputs": [],
   "source": [
    "#calling a function\n",
    "my_function()"
   ]
  },
  {
   "cell_type": "code",
   "execution_count": null,
   "id": "eaa8b6bc",
   "metadata": {},
   "outputs": [],
   "source": [
    "# Making the result of a student"
   ]
  },
  {
   "cell_type": "code",
   "execution_count": null,
   "id": "c20e8650",
   "metadata": {},
   "outputs": [],
   "source": [
    "def contact():\n",
    "    print(\"Contact details of the School\")\n",
    "    print(\"Delhi Public School\")\n",
    "    print(\"R K Puram New Delhi\")\n",
    "    print(\"7878785361\")\n",
    "    print(\"dps.contact@gmail.com\")"
   ]
  },
  {
   "cell_type": "code",
   "execution_count": null,
   "id": "dd9de160",
   "metadata": {},
   "outputs": [],
   "source": [
    "for i in range(4):\n",
    "    a = input(\"Name of the Student\")\n",
    "    b = int(input(\"Enter the marks of Maths\"))\n",
    "    c = int(input(\"Enter the marks of Social Science\"))\n",
    "    d = int(input(\"Enter the marks of English\"))\n",
    "    print()\n",
    "    contact()"
   ]
  },
  {
   "cell_type": "code",
   "execution_count": null,
   "id": "9c65d3b3",
   "metadata": {},
   "outputs": [],
   "source": [
    "# Arguments"
   ]
  },
  {
   "cell_type": "code",
   "execution_count": null,
   "id": "d065e0a0",
   "metadata": {},
   "outputs": [],
   "source": [
    "def my_function(fname):\n",
    "    print(fname +\" \"+\"Sharma\")"
   ]
  },
  {
   "cell_type": "code",
   "execution_count": null,
   "id": "f3ab7918",
   "metadata": {},
   "outputs": [],
   "source": [
    "my_function(\"Pooja\")\n",
    "my_function(\"Priya\")\n",
    "my_function(\"Deepak\")"
   ]
  },
  {
   "cell_type": "code",
   "execution_count": null,
   "id": "0e423f7a",
   "metadata": {},
   "outputs": [],
   "source": [
    "def my_function(fname, lname):\n",
    "    print(fname + \" \" + lname)"
   ]
  },
  {
   "cell_type": "code",
   "execution_count": null,
   "id": "074d4061",
   "metadata": {},
   "outputs": [],
   "source": [
    "my_function(\"Shreya\",\"Verma\")"
   ]
  },
  {
   "cell_type": "code",
   "execution_count": null,
   "id": "6cb2f027",
   "metadata": {},
   "outputs": [],
   "source": [
    "#write a program to calculate the electricity bill\n",
    "if 500 unit used - pay Rs 5 for each unit\n",
    "if 700 unit used - pay Rs 10 for each unit\n",
    "if 1000 unit used - pay Rs 15 for each unit\n",
    "if more than 1000 unit used - pay Rs 20 for each unit"
   ]
  },
  {
   "cell_type": "code",
   "execution_count": null,
   "id": "4eb93706",
   "metadata": {},
   "outputs": [],
   "source": [
    "def electricity_bill(n):\n",
    "    if n<=500:\n",
    "        print(\"Your bill is Rs\", n*5)\n",
    "    elif n>500 and n<=700:\n",
    "        print(\"Your bill is Rs\", n*10)\n",
    "    elif n>700 and n<=1000:\n",
    "        print(\"Your bill is Rs\", n*15)\n",
    "    elif n>1000:\n",
    "        print(\"Your bill is Rs\", n*20)"
   ]
  },
  {
   "cell_type": "code",
   "execution_count": null,
   "id": "7edff3da",
   "metadata": {},
   "outputs": [],
   "source": [
    "def instructions():\n",
    "    print(\"last date of paying the bill is 20 February\")\n",
    "    print(\"after 20 February you need to pay 1000 Rs as a fine\")\n",
    "    print(\"electricity office new delhi\")"
   ]
  },
  {
   "cell_type": "code",
   "execution_count": null,
   "id": "a7e951b6",
   "metadata": {},
   "outputs": [],
   "source": [
    "for i in range(3):\n",
    "    a = input(\"Enter the Name of a Customer\")\n",
    "    n = int(input(\"Enter the Unit of Electricity you have used\"))\n",
    "    electricity_bill(n)\n",
    "    print()  \n",
    "    instructions()"
   ]
  },
  {
   "cell_type": "code",
   "execution_count": null,
   "id": "524a6b7f",
   "metadata": {},
   "outputs": [],
   "source": []
  }
 ],
 "metadata": {
  "kernelspec": {
   "display_name": "Python 3 (ipykernel)",
   "language": "python",
   "name": "python3"
  },
  "language_info": {
   "codemirror_mode": {
    "name": "ipython",
    "version": 3
   },
   "file_extension": ".py",
   "mimetype": "text/x-python",
   "name": "python",
   "nbconvert_exporter": "python",
   "pygments_lexer": "ipython3",
   "version": "3.11.4"
  }
 },
 "nbformat": 4,
 "nbformat_minor": 5
}
